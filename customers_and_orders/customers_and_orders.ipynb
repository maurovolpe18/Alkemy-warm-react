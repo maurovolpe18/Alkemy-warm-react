{
  "cells": [
    {
      "cell_type": "markdown",
      "metadata": {
        "id": "view-in-github",
        "colab_type": "text"
      },
      "source": [
        "<a href=\"https://colab.research.google.com/github/maurovolpe18/Alkemy-warm-react/blob/master/customers_and_orders/customers_and_orders.ipynb\" target=\"_parent\"><img src=\"https://colab.research.google.com/assets/colab-badge.svg\" alt=\"Open In Colab\"/></a>"
      ]
    },
    {
      "cell_type": "markdown",
      "metadata": {
        "id": "piiX_CRNFYUi"
      },
      "source": [
        "# Technical Challenge ! Custiomers and Orders - The lifeblood of any business!\n",
        "\n",
        "This notebook depends on two data files: customers.scv and orders.csv. These files are hosted in the cloud (or Github), so for simplicity, we are providing you with the code to download and save the two files in a folder called 'sample_data' which lives within this notebook session (not on your local computer nor Google Drive).\n",
        "\n",
        "![sample_data folder in notebook session](https://raw.githubusercontent.com/anyoneai/notebooks/main/customers_and_orders/images/sample_data_folder.png)\n",
        "\n",
        "Please execute the first code snippet before moving to the rest of the exercise as this code will import the data from the files for you to be able to execute the rest of the exercise.\n",
        "\n",
        "Remember as we said in the previous lecture, you have to save this notebook into your Google Drive by going to menu File/Save a Copy In Drive, or clicking in the button \"Copy to Drive\". This way, you will not lose any work you've done and the file will persist with your latest changes in your Google Drive. Also we recommend you to rename your .ipynb in your Google Drive, so you can easily find it in the future."
      ]
    },
    {
      "cell_type": "code",
      "source": [],
      "metadata": {
        "id": "SquEpNXLODbw"
      },
      "execution_count": 157,
      "outputs": []
    },
    {
      "cell_type": "code",
      "execution_count": 158,
      "metadata": {
        "colab": {
          "base_uri": "https://localhost:8080/"
        },
        "id": "MWpVO242FQHC",
        "outputId": "f3fe5a44-948c-4325-f381-1c0b00e3c944"
      },
      "outputs": [
        {
          "output_type": "stream",
          "name": "stdout",
          "text": [
            "Customers and orders CSV files have been added './sample_data'\n"
          ]
        }
      ],
      "source": [
        "import requests\n",
        "\n",
        "def import_data_files():\n",
        "  r = requests.get('https://raw.githubusercontent.com/anyoneai/notebooks/main/customers_and_orders/data/customers.csv')\n",
        "  with open('./sample_data/customers.csv', 'wb') as f:\n",
        "    f.write(r.content)\n",
        "\n",
        "  r = requests.get('https://raw.githubusercontent.com/anyoneai/notebooks/main/customers_and_orders/data/orders.csv')\n",
        "  with open('./sample_data/orders.csv', 'wb') as f:\n",
        "    f.write(r.content)\n",
        "\n",
        "import_data_files()\n",
        "print(\"Customers and orders CSV files have been added './sample_data'\")"
      ]
    },
    {
      "cell_type": "markdown",
      "metadata": {
        "id": "JQAduY-RWKyB"
      },
      "source": [
        "# Exercise 1: Processing Customers data (difficulty medium)\n",
        "\n",
        "The sample customer data in 'customers.csv' file has just 5 columns: CustomerId, First Name, Last Name, City and State\n",
        "\n",
        "![Data sample](https://raw.githubusercontent.com/anyoneai/notebooks/main/customers_and_orders/images/customers.png)\n",
        "\n",
        "We strongly recommend that you complete from the [Prep Course: Intro to Python](https://colab.research.google.com/github/anyoneai/notebooks/blob/main/python3_crash_course.ipynb) the following section:\n",
        "- Section 7: File I/O (to understand how to read CSV file)\n",
        "- Section 6: For Loop (to navigate the contents of the CSV file)\n",
        "- Section 5: Tuples, Lists, and Dictionaries (to manipulate the data of the CSV file)\n",
        "\n",
        "With this, we hope you can complete this exercise successfully. Although if you want to solve this with libraries or any other way, you are welcome to do it your way.\n",
        "\n",
        "*Hint:* We advise you to take a look at the data before you start.\n",
        "**if you want to manually take a look at the data before you start, please see the content of the data [here](https://github.com/anyoneai/notebooks/blob/main/customers_and_orders/data/customers.csv).\n",
        "\n",
        "*Hint*: There are many ways to do this exercise you can do your own, although here's some help. You can solve this exercise reading and parsing CSV files, structuring data into dictionaries, and using for loops to navigate the contents\n",
        "\n",
        "*Hint*: Also, keep in mind that data might not be clean and you might have to figure out how to deal with that data from the code, without having to modify the data source.\n",
        "\n",
        "Below are the 5 questions you'll have to answer to pass the evaluation:"
      ]
    },
    {
      "cell_type": "markdown",
      "metadata": {
        "id": "kJq7S8sBfbOW"
      },
      "source": [
        "**Question 1:** How many customers are in the file?\n",
        "(as help, we have added some comments and starter code to help you structure the solution)"
      ]
    },
    {
      "cell_type": "code",
      "execution_count": 159,
      "metadata": {
        "colab": {
          "base_uri": "https://localhost:8080/"
        },
        "id": "oMnUFBFb2RUb",
        "outputId": "adb97dc3-276f-4fa4-8ead-5c8e7b3f12bf"
      },
      "outputs": [
        {
          "output_type": "stream",
          "name": "stdout",
          "text": [
            "All done!\n"
          ]
        }
      ],
      "source": [
        "from os.path import exists\n",
        "import csv\n",
        "\n",
        "# check if file can be found and open the file\n",
        "datafile = \"./sample_data/customers.csv\"\n",
        "if not exists(datafile):\n",
        "  raise SystemExit(\"You should run the first code cell and download the dataset files!\")\n",
        "\n",
        "# customers file is in the sample_data folder and can be opened.\n",
        "# Using csv reader is one way of dealing with the file\n",
        "# but it's up to you how you want to proceed\n",
        "with open(datafile, 'r') as fl:\n",
        "  csvreader = csv.reader(fl, delimiter=',')\n",
        "\n",
        "  # loop through the rows and count etc. THE REST IS UP TO YOU!\n",
        "\n",
        "\n",
        "print(\"All done!\")"
      ]
    },
    {
      "cell_type": "markdown",
      "metadata": {
        "id": "uffBnNgz_570"
      },
      "source": [
        "**Question 2:** In how many different states do the customers live in?"
      ]
    },
    {
      "cell_type": "code",
      "execution_count": 160,
      "metadata": {
        "id": "Bi_yid0sMe3-",
        "outputId": "40ee8ff0-51a6-474d-b8be-9e9d959a059c",
        "colab": {
          "base_uri": "https://localhost:8080/"
        }
      },
      "outputs": [
        {
          "output_type": "stream",
          "name": "stdout",
          "text": [
            "     CustomerID    FirstName      LastName         City State\n",
            "0          6192        Randi    Piedrahita  Canoga Park    CA\n",
            "1       5100595  Christopher       Abraham   Loma Linda    CA\n",
            "2       1902451        Elvis      Jauregui  Los Angeles    CA\n",
            "3       1906377         Jose  Mota-Sanchez       Downey    CA\n",
            "4       1902406      Scott        McCrorie   Long Beach    CA\n",
            "..          ...          ...           ...          ...   ...\n",
            "597     5415365      Trinity     Hall Reif        Poway    CA\n",
            "598     5415465       Kisona   Mialoto Jr.      Lynwood    CA\n",
            "599     5415345     Lawrence         Zhang  Temple City    CA\n",
            "600     5415481         John        Hughes    Round Top    TX\n",
            "601     5415482      Phillip        Okonma  Los Angeles    CA\n",
            "\n",
            "[602 rows x 5 columns]\n",
            "16\n"
          ]
        }
      ],
      "source": [
        "\n",
        "# open file and init vars\n",
        "import pandas as pd\n",
        "df = pd.read_csv(datafile)\n",
        "# evaluate the contents of the file\n",
        "print(df)\n",
        "\n",
        "total_states = df['State'].nunique()\n",
        "print(total_states)"
      ]
    },
    {
      "cell_type": "markdown",
      "metadata": {
        "id": "DC59SZYiMfNY"
      },
      "source": [
        "**Question 3** What is the state with most customers?"
      ]
    },
    {
      "cell_type": "code",
      "execution_count": 161,
      "metadata": {
        "id": "tfGU3w-OMhA9",
        "outputId": "123fb334-ba78-43fd-9896-905ef9819fbd",
        "colab": {
          "base_uri": "https://localhost:8080/"
        }
      },
      "outputs": [
        {
          "output_type": "stream",
          "name": "stdout",
          "text": [
            "CA\n"
          ]
        }
      ],
      "source": [
        "state_with_most_customers = df['State'].value_counts().idxmax()\n",
        "print(state_with_most_customers)"
      ]
    },
    {
      "cell_type": "markdown",
      "metadata": {
        "id": "7mcM6cUAMhLB"
      },
      "source": [
        "**Question 4** What is the state with the least customers?"
      ]
    },
    {
      "cell_type": "code",
      "execution_count": 162,
      "metadata": {
        "id": "8T0Ka2RqMi3P",
        "outputId": "3945d27c-038c-4819-ab97-c91cee8f7950",
        "colab": {
          "base_uri": "https://localhost:8080/"
        }
      },
      "outputs": [
        {
          "output_type": "stream",
          "name": "stdout",
          "text": [
            "WA\n"
          ]
        }
      ],
      "source": [
        "# open file and init vars\n",
        "state_with_least_customers = df['State'].value_counts().idxmin()\n",
        "# evaluate the contents of the file\n",
        "print(state_with_least_customers)"
      ]
    },
    {
      "cell_type": "markdown",
      "metadata": {
        "id": "h6fIy7hXHF6A"
      },
      "source": [
        "**Question 5:** What is the most common last name?"
      ]
    },
    {
      "cell_type": "code",
      "execution_count": 163,
      "metadata": {
        "id": "k8M1DmA75Km7",
        "outputId": "12fe86cc-5524-4f16-9d08-07816a70612f",
        "colab": {
          "base_uri": "https://localhost:8080/"
        }
      },
      "outputs": [
        {
          "output_type": "stream",
          "name": "stdout",
          "text": [
            "Smith\n"
          ]
        }
      ],
      "source": [
        "# open file and init vars\n",
        "df_lasNames = df[\"LastName\"].value_counts().idxmax()\n",
        "print(df_lasNames)\n",
        "# evaluate the contents of the file"
      ]
    },
    {
      "cell_type": "markdown",
      "metadata": {
        "id": "YPRma1t9NoFk"
      },
      "source": [
        "# Exercise 2: Processing Orders data (difficulty high)\n",
        "\n",
        "The second sample files contains orders placed by customers from the first file. Be careful, this file has many rows and you most likely should not print the contents of the whole file.\n",
        "\n",
        "The file contains the following columns: CustomerID, OrderID, Date, OrderTotal, ProductName, Price\n",
        "\n",
        "![Data sample](https://raw.githubusercontent.com/anyoneai/notebooks/main/customers_and_orders/images/orders.png)\n",
        "\n",
        "*Hint:* We advise you to take a look at the data before you start.\n",
        "**if you want to manually take a look at the data before you start, please see the content of the data [here](https://raw.githubusercontent.com/anyoneai/notebooks/main/customers_and_orders/data/orders.csv).\n",
        "\n",
        "*Hint*: There are many ways to do this exercise you can do your own, although here's some help. You can solve this exercise reading and parsing CSV files, structuring data into dictionaries, and using for loops to navigate the contents\n",
        "\n",
        "*Hint*: Also, the data is not clean and you will have to figure out how to deal with that data from the code, without having to modify the data source.\n",
        "\n",
        "\n",
        "\n",
        "**Question #1:** How many unique orders are in the orders.csv file?\n",
        "\n",
        "**Question #2:** What is the average number of items per order (rounded to two decimal places)?\n",
        "\n",
        "**Question #3:** What is the highest number of items per order?\n",
        "\n",
        "**Question #4:** What is the number of orders placed in October 2021?\n",
        "\n",
        "**Question #5:** Which customer spent the most amount of money in 2021?\n",
        "\n",
        "**Question #6:** Historically, what is the best month for sales?\n",
        "\n",
        "Once you get your answers, remember to go back to the course and introduce them in the multiple choice quiz"
      ]
    },
    {
      "cell_type": "code",
      "execution_count": 178,
      "metadata": {
        "id": "8ipJTrfs5QVM",
        "outputId": "e6c597fe-ec5a-4c53-dfcd-0a53db0ff31f",
        "colab": {
          "base_uri": "https://localhost:8080/"
        }
      },
      "outputs": [
        {
          "output_type": "stream",
          "name": "stdout",
          "text": [
            "       CustomerID  OrderID                     Date  OrderTotal  ProductName  \\\n",
            "0            8091  7742581  2021-07-26 14:40:10.783        95.0          Z03   \n",
            "1          902139  7742778  2021-08-08 05:01:21.120        60.0     0844 A/C   \n",
            "2         2300266  7742593  2021-07-27 11:00:16.020       185.0          M07   \n",
            "3         2300266  7742593  2021-07-27 11:00:16.020       185.0          M09   \n",
            "4         5173013  7742609  2021-07-28 14:26:13.930       165.0         0324   \n",
            "...           ...      ...                      ...         ...          ...   \n",
            "29289     5415451  7791815  2022-02-07 14:37:30.567         0.0  Circle #041   \n",
            "29290     5415483  7791820  2022-02-07 15:55:55.260       132.0         HH33   \n",
            "29291     5415485  7791822  2022-02-07 16:23:05.940       132.0         3568   \n",
            "29292     4300695  7791824  2022-02-07 16:55:33.343       157.0         0414   \n",
            "29293     5415503  7791848  2022-02-09 10:36:56.553       132.0         PP22   \n",
            "\n",
            "       Price  \n",
            "0       90.0  \n",
            "1       60.0  \n",
            "2       90.0  \n",
            "3       90.0  \n",
            "4      160.0  \n",
            "...      ...  \n",
            "29289    0.0  \n",
            "29290  125.0  \n",
            "29291  125.0  \n",
            "29292  150.0  \n",
            "29293  125.0  \n",
            "\n",
            "[29294 rows x 6 columns]\n",
            "Unique orders, 16672\n",
            "Average number of items, 298.04\n",
            "Highest number of items, 3600.00\n"
          ]
        }
      ],
      "source": [
        "# open and evaluate orders.csv\n",
        "\n",
        "\n",
        "dataOrderFile = \"./sample_data/orders.csv\"\n",
        "if not exists(dataOrderFile):\n",
        "  raise SystemExit(\"You should run the first code cell and download the dataset files!\")\n",
        "\n",
        "# customers file is in the sample_data folder and can be opened.\n",
        "# Using csv reader is one way of dealing with the file\n",
        "# but it's up to you how you want to proceed\n",
        "with open(dataOrderFile, 'r') as fl:\n",
        "  csvreader = csv.reader(fl, delimiter=',')\n",
        "\n",
        "  # loop through the rows and count etc. THE REST IS UP TO YOU!\n",
        "\n",
        "#Question #1:\n",
        "df_orders = pd.read_csv(dataOrderFile)\n",
        "print(df_orders)\n",
        "#Question #2:\n",
        "unique_orders = df_orders['OrderID'].nunique()\n",
        "print(f'Unique orders, {unique_orders}')\n",
        "#Question #3:\n",
        "average_number_items = df_orders['OrderTotal'].mean()\n",
        "print(f'Average number of items, {average_number_items:.2f}')\n",
        "#Question #4:\n",
        "highest_numbers_items = df_orders['OrderTotal'].max()\n",
        "print(f'Highest number of items, {highest_numbers_items:.2f}')\n",
        "\n"
      ]
    },
    {
      "cell_type": "markdown",
      "metadata": {
        "id": "ie0JW4FAk6Os"
      },
      "source": [
        "# Finished!\n",
        "\n",
        "Hope this was not too difficult and slicing and dicing the datasets was some fun. Now head on back to the course and provide the answers to the questions from this exercise."
      ]
    }
  ],
  "metadata": {
    "colab": {
      "name": "customers_and_orders.ipynb",
      "provenance": [],
      "include_colab_link": true
    },
    "kernelspec": {
      "display_name": "Python 3 (ipykernel)",
      "language": "python",
      "name": "python3"
    },
    "language_info": {
      "codemirror_mode": {
        "name": "ipython",
        "version": 3
      },
      "file_extension": ".py",
      "mimetype": "text/x-python",
      "name": "python",
      "nbconvert_exporter": "python",
      "pygments_lexer": "ipython3",
      "version": "3.9.9"
    }
  },
  "nbformat": 4,
  "nbformat_minor": 0
}